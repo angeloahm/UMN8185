{
 "cells": [
  {
   "cell_type": "markdown",
   "id": "d8075585",
   "metadata": {},
   "source": [
    "# Problem Set 1 - 8185\n",
    "\n",
    "Angelo Mendes \n",
    "\n",
    "University of Minnesota"
   ]
  },
  {
   "cell_type": "code",
   "execution_count": null,
   "id": "06603604",
   "metadata": {},
   "outputs": [],
   "source": [
    "# Packages\n",
    "import numpy as np \n",
    "import matplotlib.pyplot as plt\n",
    "from numba import jit, njit"
   ]
  },
  {
   "cell_type": "markdown",
   "id": "572328e4",
   "metadata": {},
   "source": [
    "### Exercise 1"
   ]
  },
  {
   "cell_type": "code",
   "execution_count": 101,
   "id": "b6711ce1",
   "metadata": {},
   "outputs": [
    {
     "data": {
      "image/png": "[encoded data removed]",
      "text/plain": [
       "<Figure size 432x288 with 1 Axes>"
      ]
     },
     "metadata": {
      "needs_background": "light"
     },
     "output_type": "display_data"
    },
    {
     "data": {
      "text/plain": [
       "<Figure size 432x288 with 0 Axes>"
      ]
     },
     "metadata": {},
     "output_type": "display_data"
    }
   ],
   "source": [
    "@njit\n",
    "def largest_root(a=1, b=100000, gridpoints_n=8, method=1):\n",
    "    \n",
    "    n_grid = -np.linspace(1,gridpoints_n,gridpoints_n)\n",
    "    roots = np.empty(gridpoints_n)\n",
    "    \n",
    "    \n",
    "    for (i,n) in enumerate(n_grid):\n",
    "        c = 10**n\n",
    "        Δ = b**2 - 4*a*c\n",
    "            \n",
    "        if method==1:\n",
    "            x1 = (-b-(Δ**(1/2)))/(2*a)\n",
    "            x2 = (-b+(Δ**(1/2)))/(2*a)\n",
    "            roots[i] = max(x1, x2)\n",
    "                \n",
    "        else:\n",
    "            q = (1/2)*(-b + np.sign(b)*(Δ**(1/2)))\n",
    "            x1 = q/a\n",
    "            x2 = q/c\n",
    "            roots[i] = max(x1, x2)\n",
    "        \n",
    "        \n",
    "    return roots\n",
    "\n",
    "n_grid = -np.linspace(1,8,8)\n",
    "roots1 = largest_root(method=1)\n",
    "roots2 = largest_root(method=2)\n",
    "\n",
    "plt.plot(n_grid, roots1, label='Method 1')\n",
    "plt.plot(n_grid, roots2, label='Method 2')\n",
    "plt.plot(n_grid, roots1-roots2, linestyle='--' ,label='$Δ$')\n",
    "plt.grid()\n",
    "plt.legend()\n",
    "plt.title('Roots using two different methods')\n",
    "plt.show()\n",
    "plt.savefig('plot_ex1.png')"
   ]
  },
  {
   "cell_type": "markdown",
   "id": "8f50ea89",
   "metadata": {},
   "source": [
    "### Exercise 2"
   ]
  },
  {
   "cell_type": "code",
   "execution_count": 104,
   "id": "fd8b2a05",
   "metadata": {},
   "outputs": [
    {
     "data": {
      "image/png": "[encoded data removed]",
      "text/plain": [
       "<Figure size 432x288 with 1 Axes>"
      ]
     },
     "metadata": {
      "needs_background": "light"
     },
     "output_type": "display_data"
    },
    {
     "data": {
      "text/plain": [
       "<Figure size 432x288 with 0 Axes>"
      ]
     },
     "metadata": {},
     "output_type": "display_data"
    }
   ],
   "source": [
    "def GoldenMean(n=20):\n",
    "    \n",
    "    φ = (5**(1/2)-1) / 2\n",
    "    grid_φ = np.ones((n,2))\n",
    "    \n",
    "    grid_φ[1,1] = 0.61803398\n",
    "    \n",
    "    for (i,n) in enumerate(np.linspace(1,n,n)):\n",
    "        grid_φ[i,0] = φ**n\n",
    "        \n",
    "        if i>1:\n",
    "            grid_φ[i,1] = grid_φ[i-2,1] - grid_φ[i-1,1]\n",
    "            \n",
    "    return np.linspace(1,20,20), grid_φ\n",
    "        \n",
    "grid_n, grid_φ = GoldenMean()\n",
    "plt.plot(grid_n, grid_φ[:,0], label='Method 1')\n",
    "plt.plot(grid_n, grid_φ[:,1], label='Method 2')\n",
    "plt.legend()\n",
    "plt.grid()\n",
    "plt.show()\n",
    "plt.savefig('plot_ex2.png')\n",
    "    \n",
    "    \n"
   ]
  },
  {
   "cell_type": "markdown",
   "id": "c5a36b37",
   "metadata": {},
   "source": []
  },
  {
   "cell_type": "code",
   "execution_count": null,
   "id": "da325ee9",
   "metadata": {},
   "outputs": [],
   "source": []
  },
  {
   "cell_type": "code",
   "execution_count": null,
   "id": "57775ab2",
   "metadata": {},
   "outputs": [],
   "source": []
  },
  {
   "cell_type": "code",
   "execution_count": null,
   "id": "bd91abea",
   "metadata": {},
   "outputs": [],
   "source": []
  },
  {
   "cell_type": "code",
   "execution_count": null,
   "id": "9fe231e4",
   "metadata": {},
   "outputs": [],
   "source": []
  },
  {
   "cell_type": "code",
   "execution_count": null,
   "id": "6b1b3eae",
   "metadata": {},
   "outputs": [],
   "source": []
  },
  {
   "cell_type": "code",
   "execution_count": null,
   "id": "603f87a0",
   "metadata": {},
   "outputs": [],
   "source": []
  }
 ],
 "metadata": {
  "kernelspec": {
   "display_name": "Python 3 (ipykernel)",
   "language": "python",
   "name": "python3"
  },
  "language_info": {
   "codemirror_mode": {
    "name": "ipython",
    "version": 3
   },
   "file_extension": ".py",
   "mimetype": "text/x-python",
   "name": "python",
   "nbconvert_exporter": "python",
   "pygments_lexer": "ipython3",
   "version": "3.9.7"
  }
 },
 "nbformat": 4,
 "nbformat_minor": 5
}
