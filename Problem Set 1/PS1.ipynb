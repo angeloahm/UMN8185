{
 "cells": [
  {
   "cell_type": "markdown",
   "metadata": {},
   "source": [
    "### Homework 1 ###"
   ]
  },
  {
   "cell_type": "markdown",
   "metadata": {},
   "source": [
    "<hr>"
   ]
  },
  {
   "cell_type": "code",
   "execution_count": 5,
   "metadata": {},
   "outputs": [],
   "source": [
    "import numpy as np\n",
    "import matplotlib.pyplot as plt"
   ]
  },
  {
   "cell_type": "markdown",
   "metadata": {},
   "source": [
    "### Exercise 1 ###"
   ]
  },
  {
   "cell_type": "markdown",
   "metadata": {},
   "source": [
    "#### Rounding error ####\n",
    "\n",
    "Given $a=1$, $b=100000$, $c=10^n$ where $n=-1,-2,...,8$ we can find both roots of the polynomial:\n",
    "\n",
    "$$ax^2+bx+c$$\n",
    "\n",
    "by solving \n",
    "\n",
    "$$x_1 = \\frac{-b+\\sqrt{b^2-4ac}}{2a} $$\n",
    "$$x_2 = \\frac{-b-\\sqrt{b^2-4ac}}{2a} $$\n",
    "\n",
    "Denote $x^n_1, x_2^n$ the corresponding root using $c^n$. Note that as $n$ grows the term in the square brakets tends to $b^2$, since $4ac\\to 0$. Althought it might be true in the limit, is not true that for $n=7$ or even $n=8$, but thats not what we obtain when we solve for this roots numerically. The reason behind this is the machine accuracy $\\epsilon_m$. Following Numerical recipes in Fortran 77:\n",
    "\n",
    " \"Pretty much any arithmetic operation among floating numbers should be thought of as introducing an addittional fractional error of at least $\\epsilon$. This type of error is called roundoff error.\"[...]\"Roudnoff errors accumulate with increasing amounts of calculations\".[...]\" Substraction of two nearly equal numbers can vastly increase the roundoff error.\"\n",
    "\n",
    " Note that starting at $n=7$ both roots don't seem to take the term $4ac$ into account, when computing the square root of $b^2$. Starting from that $n$ onwards, the roundoff error makes governs the results for the numerical roots.\n",
    "\n",
    "<center>\n",
    "\n",
    "| $n$  |$x_1$ |   $x_2$ |\n",
    "| --- | --- | --- |\n",
    "| 1 | -1.0000003385e-06 | -99999.999999\n",
    "| 2 | -1.0000076145e-07  |-99999.9999999    \n",
    "| 3 | -9.9971657619e-09  |-99999.99999999   \n",
    "| 4 | -1.0040821508e-09  |-99999.999999999  \n",
    "| 5 | -1.0186340660e-10  |-99999.9999999999 \n",
    "| 6 | -7.2759576142e-12  |-100000.          \n",
    "| 7 | 0.0000000000e+00   |-100000.          \n",
    "| 8 | 0.0000000000e+00  | -100000.  \n",
    "\n",
    "</center>\n"
   ]
  },
  {
   "cell_type": "code",
   "execution_count": 89,
   "metadata": {},
   "outputs": [],
   "source": [
    "class Exercise_1:\n",
    "    def __init__(self, a, b, c):\n",
    "        self.a = a\n",
    "        self.b = b\n",
    "        self.c = c\n",
    "    def Method_1(self):\n",
    "        self.r_1 = (-self.b + np.sqrt(self.b**2 - 4 * self.a * self.c))  / (2)\n",
    "        self.r_2 = (-self.b - np.sqrt(self.b**2 - 4 * self.a * self.c))  / (2)\n",
    "        "
   ]
  },
  {
   "cell_type": "code",
   "execution_count": 90,
   "metadata": {},
   "outputs": [
    {
     "data": {
      "text/plain": [
       "(array([-1.0000003385e-06, -1.0000076145e-07, -9.9971657619e-09,\n",
       "        -1.0040821508e-09, -1.0186340660e-10, -7.2759576142e-12,\n",
       "         0.0000000000e+00,  0.0000000000e+00]),\n",
       " array([ -99999.999999    ,  -99999.9999999   ,  -99999.99999999  ,\n",
       "         -99999.999999999 ,  -99999.9999999999, -100000.          ,\n",
       "        -100000.          , -100000.          ]))"
      ]
     },
     "execution_count": 90,
     "metadata": {},
     "output_type": "execute_result"
    }
   ],
   "source": [
    "a, b, c = np.ones(8), 100000 * np.ones(8), (10 *np.ones(8)) ** np.linspace(-1, -8, 8, dtype=int)\n",
    "Ex1 = Exercise_1(a, b, c)\n",
    "Ex1.Method_1()\n",
    "Ex1.r_1, Ex1.r_2"
   ]
  },
  {
   "cell_type": "markdown",
   "metadata": {},
   "source": [
    "<hr>"
   ]
  },
  {
   "cell_type": "markdown",
   "metadata": {},
   "source": [
    "### Exercise 2 ###"
   ]
  },
  {
   "cell_type": "markdown",
   "metadata": {},
   "source": [
    "Prosition: $\\phi^n+1=\\phi^n-1-\\phi^n$ for $\\phi=\\frac{\\sqrt{5}-1}{2}$.\n",
    "\n",
    "Proof: $$   \\phi^{n+_1}=\\phi^n-1-\\phi^n $$\n",
    "        $$   \\left(\\frac{\\sqrt{5}-1}{2}\\right)^{n+_1}=\\left(\\frac{\\sqrt{5}-1}{2}\\right)^n-1-\\left(\\frac{\\sqrt{5}-1}{2}\\right)^n $$\n",
    "        $$ \\left(\\frac{\\sqrt{5}-1}{2}\\right) \\left(\\frac{\\sqrt{5}-1}{2}\\right)^n = \\left(\\frac{\\sqrt{5}-1}{2}\\right)^{n-1} -\\left(\\frac{\\sqrt{5}-1}{2}\\right)^n$$\n",
    "        $$ \\left(\\frac{\\sqrt{5}-1}{2}\\right)  = \\left(\\frac{\\sqrt{5}-1}{2}\\right)^{-1} -1$$\n",
    "        $$ \\left(\\frac{\\sqrt{5}-1}{2}\\right)  = \\left(\\frac{2}{\\sqrt{5}-1}\\right)^{-1} -1$$\n",
    "        $$ 0  = 0$$\n",
    "\n",
    "\n",
    "Following Numerical recipies in Fortran 77:\n",
    "\n",
    "\"There is another, different, kind of error that is a characteristic of the program or algorithm used,\n",
    "independent of the hardware on which the program is executed.\"[...]\"The discrepancy between the true answer and the answer obtained in a practical\n",
    "calculation is called the truncation error. Truncation error would persist even on a hypothetical, “perfect” computer that had an infinitely accurate representation and no\n",
    "roundoff error.\"[...]\"Sometimes, however, an otherwise attractive method can be unstable. This means that any roundoff error that becomes “mixed into” the calculation at an early\n",
    "stage is successively magnified until it comes to swamp the true answer. An unstable method would be useful on a hypothetical, perfect computer; but in this imperfect\n",
    "world it is necessary for us to require that algorithms be stable — or if unstable that we use them with great caution.\"\n",
    "\n",
    "The example computed below shows a clear example of an unstable vs a stable algorithm. We construct 2 sequences for $\\{\\psi^n\\}$, following the two methods proposed in the exercise. We clearly see that when using the unstable algorithm the sequence diverges from its limit point. \n",
    "\n"
   ]
  },
  {
   "cell_type": "code",
   "execution_count": 6,
   "metadata": {},
   "outputs": [],
   "source": [
    "class Exercise2:\n",
    "    def __init__(self, n):\n",
    "        self.n = n\n",
    "        self.ϕ = np.ones(n)\n",
    "        self.ϕ[0] = 0\n",
    "        self.ϕ[1] = 0.61803398\n",
    "        self.ψ = self.ϕ.copy()\n",
    "        for i in range(2, self.n-2, 1):\n",
    "            self.ϕ[i+2] = self.ϕ[i] - self.ϕ[i+1]\n",
    "            self.ψ[i+2] = self.ψ[1]**(i+2)\n",
    "\n",
    "    def plot(self):\n",
    "        fig, ax = plt.subplots(figsize=(20, 3))\n",
    "        grid = range(0, self.n, 1)\n",
    "        plt.plot(grid, self.ϕ, label='$\\phi^n_{Algorithm}$', alpha=0.6)\n",
    "        plt.plot(grid, self.ψ, label='$\\phi^n_{Raising}$', alpha=0.6)\n",
    "        plt.xlabel('n')\n",
    "        plt.title('Comparison for different algorithms')\n",
    "        plt.xticks(grid)\n",
    "        plt.legend()\n",
    "        plt.show()"
   ]
  },
  {
   "cell_type": "code",
   "execution_count": 7,
   "metadata": {},
   "outputs": [
    {
     "data": {
      "image/png": "[encoded data removed]",
      "text/plain": [
       "<Figure size 1440x216 with 1 Axes>"
      ]
     },
     "metadata": {
      "needs_background": "light"
     },
     "output_type": "display_data"
    }
   ],
   "source": [
    "Ex2 = Exercise2(21)\n",
    "Ex2.φ\n",
    "Ex2.plot()"
   ]
  }
 ],
 "metadata": {
  "kernelspec": {
   "display_name": "Python 3 (ipykernel)",
   "language": "python",
   "name": "python3"
  },
  "language_info": {
   "codemirror_mode": {
    "name": "ipython",
    "version": 3
   },
   "file_extension": ".py",
   "mimetype": "text/x-python",
   "name": "python",
   "nbconvert_exporter": "python",
   "pygments_lexer": "ipython3",
   "version": "3.9.7"
  },
  "vscode": {
   "interpreter": {
    "hash": "b69a4b02e7947e52e6ad2ba4161a8d75302f9e0e4230d8a535486fa2ac92da57"
   }
  }
 },
 "nbformat": 4,
 "nbformat_minor": 2
}
